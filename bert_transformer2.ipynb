{
 "cells": [
  {
   "cell_type": "code",
   "execution_count": 25,
   "metadata": {},
   "outputs": [],
   "source": [
    "import pandas as pd\n",
    "import numpy as np \n",
    "import matplotlib.pyplot as plt\n",
    "import spacy\n",
    "import warnings\n",
    "warnings.filterwarnings(\"ignore\")\n",
    "import tensorflow as tf\n",
    "from transformers import TFAutoModel ,AutoTokenizer, \\\n",
    "    TFBertForSequenceClassification, DataCollatorWithPadding\n",
    "import tensorflow_hub as hub\n",
    "import tensorflow_text as text\n",
    "import pickle"
   ]
  },
  {
   "cell_type": "code",
   "execution_count": 14,
   "metadata": {},
   "outputs": [
    {
     "name": "stdout",
     "output_type": "stream",
     "text": [
      "2.10.0\n"
     ]
    }
   ],
   "source": [
    "print(tf. __version__)"
   ]
  },
  {
   "cell_type": "code",
   "execution_count": 15,
   "metadata": {},
   "outputs": [],
   "source": [
    "df_clean = pd.read_csv('data/cleaned_reviews.csv')"
   ]
  },
  {
   "cell_type": "code",
   "execution_count": 16,
   "metadata": {},
   "outputs": [
    {
     "data": {
      "text/plain": [
       "(17340, 4)"
      ]
     },
     "execution_count": 16,
     "metadata": {},
     "output_type": "execute_result"
    }
   ],
   "source": [
    "df_clean.shape"
   ]
  },
  {
   "cell_type": "code",
   "execution_count": 17,
   "metadata": {},
   "outputs": [
    {
     "data": {
      "text/plain": [
       "Index(['sentiments', 'cleaned_review', 'cleaned_review_length',\n",
       "       'review_score'],\n",
       "      dtype='object')"
      ]
     },
     "execution_count": 17,
     "metadata": {},
     "output_type": "execute_result"
    }
   ],
   "source": [
    "df_clean.columns"
   ]
  },
  {
   "cell_type": "code",
   "execution_count": 18,
   "metadata": {},
   "outputs": [],
   "source": [
    "df_clean.drop(columns=['cleaned_review_length','review_score'],inplace=True)"
   ]
  },
  {
   "cell_type": "markdown",
   "metadata": {},
   "source": [
    "**Checking for Null Vaules and Duplicates**"
   ]
  },
  {
   "cell_type": "code",
   "execution_count": 19,
   "metadata": {},
   "outputs": [
    {
     "data": {
      "text/plain": [
       "sentiments        0\n",
       "cleaned_review    3\n",
       "dtype: int64"
      ]
     },
     "execution_count": 19,
     "metadata": {},
     "output_type": "execute_result"
    }
   ],
   "source": [
    "df_clean.isna().sum()"
   ]
  },
  {
   "cell_type": "code",
   "execution_count": 20,
   "metadata": {},
   "outputs": [],
   "source": [
    "df_clean.dropna(inplace=True)"
   ]
  },
  {
   "cell_type": "code",
   "execution_count": 21,
   "metadata": {},
   "outputs": [
    {
     "data": {
      "text/plain": [
       "(17337, 2)"
      ]
     },
     "execution_count": 21,
     "metadata": {},
     "output_type": "execute_result"
    }
   ],
   "source": [
    "df_clean.shape"
   ]
  },
  {
   "cell_type": "code",
   "execution_count": 22,
   "metadata": {},
   "outputs": [
    {
     "data": {
      "text/html": [
       "<div>\n",
       "<style scoped>\n",
       "    .dataframe tbody tr th:only-of-type {\n",
       "        vertical-align: middle;\n",
       "    }\n",
       "\n",
       "    .dataframe tbody tr th {\n",
       "        vertical-align: top;\n",
       "    }\n",
       "\n",
       "    .dataframe thead th {\n",
       "        text-align: right;\n",
       "    }\n",
       "</style>\n",
       "<table border=\"1\" class=\"dataframe\">\n",
       "  <thead>\n",
       "    <tr style=\"text-align: right;\">\n",
       "      <th></th>\n",
       "      <th>sentiments</th>\n",
       "      <th>cleaned_review</th>\n",
       "    </tr>\n",
       "  </thead>\n",
       "  <tbody>\n",
       "    <tr>\n",
       "      <th>0</th>\n",
       "      <td>positive</td>\n",
       "      <td>i wish would have gotten one earlier love it a...</td>\n",
       "    </tr>\n",
       "    <tr>\n",
       "      <th>1</th>\n",
       "      <td>neutral</td>\n",
       "      <td>i ve learned this lesson again open the packag...</td>\n",
       "    </tr>\n",
       "    <tr>\n",
       "      <th>2</th>\n",
       "      <td>neutral</td>\n",
       "      <td>it is so slow and lags find better option</td>\n",
       "    </tr>\n",
       "    <tr>\n",
       "      <th>3</th>\n",
       "      <td>neutral</td>\n",
       "      <td>roller ball stopped working within months of m...</td>\n",
       "    </tr>\n",
       "    <tr>\n",
       "      <th>4</th>\n",
       "      <td>neutral</td>\n",
       "      <td>i like the color and size but it few days out ...</td>\n",
       "    </tr>\n",
       "    <tr>\n",
       "      <th>...</th>\n",
       "      <td>...</td>\n",
       "      <td>...</td>\n",
       "    </tr>\n",
       "    <tr>\n",
       "      <th>17335</th>\n",
       "      <td>positive</td>\n",
       "      <td>i love this speaker and love can take it anywh...</td>\n",
       "    </tr>\n",
       "    <tr>\n",
       "      <th>17336</th>\n",
       "      <td>positive</td>\n",
       "      <td>i use it in my house easy to connect and loud ...</td>\n",
       "    </tr>\n",
       "    <tr>\n",
       "      <th>17337</th>\n",
       "      <td>positive</td>\n",
       "      <td>the bass is good and the battery is amazing mu...</td>\n",
       "    </tr>\n",
       "    <tr>\n",
       "      <th>17338</th>\n",
       "      <td>positive</td>\n",
       "      <td>love it</td>\n",
       "    </tr>\n",
       "    <tr>\n",
       "      <th>17339</th>\n",
       "      <td>neutral</td>\n",
       "      <td>mono speaker</td>\n",
       "    </tr>\n",
       "  </tbody>\n",
       "</table>\n",
       "<p>17337 rows × 2 columns</p>\n",
       "</div>"
      ],
      "text/plain": [
       "      sentiments                                     cleaned_review\n",
       "0       positive  i wish would have gotten one earlier love it a...\n",
       "1        neutral  i ve learned this lesson again open the packag...\n",
       "2        neutral          it is so slow and lags find better option\n",
       "3        neutral  roller ball stopped working within months of m...\n",
       "4        neutral  i like the color and size but it few days out ...\n",
       "...          ...                                                ...\n",
       "17335   positive  i love this speaker and love can take it anywh...\n",
       "17336   positive  i use it in my house easy to connect and loud ...\n",
       "17337   positive  the bass is good and the battery is amazing mu...\n",
       "17338   positive                                            love it\n",
       "17339    neutral                                       mono speaker\n",
       "\n",
       "[17337 rows x 2 columns]"
      ]
     },
     "execution_count": 22,
     "metadata": {},
     "output_type": "execute_result"
    }
   ],
   "source": [
    "df_clean"
   ]
  },
  {
   "cell_type": "code",
   "execution_count": 23,
   "metadata": {},
   "outputs": [],
   "source": [
    "# Mapping was changed due to the use of a neural network architecture\n",
    "sentiment_mapping = {'negative':0,'neutral':1,'positive':2} \n",
    "df_clean['sentiment_label'] = df_clean.sentiments.map(sentiment_mapping)\n",
    "df_clean.drop(columns=['sentiments'],inplace=True)"
   ]
  },
  {
   "cell_type": "code",
   "execution_count": 26,
   "metadata": {},
   "outputs": [
    {
     "name": "stderr",
     "output_type": "stream",
     "text": [
      "All model checkpoint layers were used when initializing TFBertModel.\n",
      "\n",
      "All the layers of TFBertModel were initialized from the model checkpoint at ../using_transformers/models/bert_base_cased.\n",
      "If your task is similar to the task the model of the checkpoint was trained on, you can already use TFBertModel for predictions without further training.\n"
     ]
    }
   ],
   "source": [
    "# model_checkpoint = \"bert_base_cased\"\n",
    "# tokeniser_checkpoint = \"bert_base_cased\"\n",
    "model_checkpoint = \"../using_transformers/models/bert_base_cased\"\n",
    "tokeniser_checkpoint = \"../using_transformers/tokenizers/bert_base_cased\"\n",
    "model = TFAutoModel.from_pretrained(model_checkpoint)\n",
    "tokenizer = AutoTokenizer.from_pretrained(tokeniser_checkpoint)"
   ]
  },
  {
   "cell_type": "code",
   "execution_count": 27,
   "metadata": {},
   "outputs": [
    {
     "data": {
      "text/plain": [
       "'i wish would have gotten one earlier love it and it makes working in my laptop so much easier'"
      ]
     },
     "execution_count": 27,
     "metadata": {},
     "output_type": "execute_result"
    }
   ],
   "source": [
    "df_clean['cleaned_review'].iloc[0]"
   ]
  },
  {
   "cell_type": "code",
   "execution_count": 115,
   "metadata": {},
   "outputs": [],
   "source": [
    "# Exmaple of tokenising\n",
    "# https://huggingface.co/docs/transformers/v4.26.0/en/internal/tokenization_utils#transformers.PreTrainedTokenizerBase.encode_plus\n",
    "tokens = tokenizer.encode_plus(\n",
    "    df_clean['cleaned_review'].iloc[0],\n",
    "    max_length=20, \n",
    "    truncation=True, \n",
    "    padding='max_length', \n",
    "    add_special_tokens=True,\n",
    "    # return_overflowing_tokens=True,\n",
    "    # return_offsets_mapping=True,\n",
    "    # stride = 10,\n",
    "    return_tensors='tf'\n",
    ")"
   ]
  },
  {
   "cell_type": "code",
   "execution_count": 116,
   "metadata": {},
   "outputs": [
    {
     "data": {
      "text/plain": [
       "'i wish would have gotten one earlier love it and it makes working in my laptop so much easier'"
      ]
     },
     "execution_count": 116,
     "metadata": {},
     "output_type": "execute_result"
    }
   ],
   "source": [
    "df_clean['cleaned_review'].iloc[0]"
   ]
  },
  {
   "cell_type": "code",
   "execution_count": 117,
   "metadata": {},
   "outputs": [
    {
     "data": {
      "text/plain": [
       "dict_keys(['input_ids', 'token_type_ids', 'attention_mask'])"
      ]
     },
     "execution_count": 117,
     "metadata": {},
     "output_type": "execute_result"
    }
   ],
   "source": [
    "tokens.keys()"
   ]
  },
  {
   "cell_type": "code",
   "execution_count": 131,
   "metadata": {},
   "outputs": [
    {
     "data": {
      "text/plain": [
       "[101,\n",
       " 178,\n",
       " 3683,\n",
       " 1156,\n",
       " 1138,\n",
       " 4690,\n",
       " 1141,\n",
       " 2206,\n",
       " 1567,\n",
       " 1122,\n",
       " 1105,\n",
       " 1122,\n",
       " 2228,\n",
       " 1684,\n",
       " 1107,\n",
       " 1139,\n",
       " 12574,\n",
       " 1177,\n",
       " 1277,\n",
       " 102]"
      ]
     },
     "execution_count": 131,
     "metadata": {},
     "output_type": "execute_result"
    }
   ],
   "source": [
    "tokens.input_ids.numpy().tolist()[0][:20]"
   ]
  },
  {
   "cell_type": "code",
   "execution_count": 136,
   "metadata": {},
   "outputs": [
    {
     "data": {
      "text/plain": [
       "{'input_ids': <tf.Tensor: shape=(1, 20), dtype=int32, numpy=\n",
       "array([[  101,   178,  3683,  1156,  1138,  4690,  1141,  2206,  1567,\n",
       "         1122,  1105,  1122,  2228,  1684,  1107,  1139, 12574,  1177,\n",
       "         1277,   102]])>, 'token_type_ids': <tf.Tensor: shape=(1, 20), dtype=int32, numpy=array([[0, 0, 0, 0, 0, 0, 0, 0, 0, 0, 0, 0, 0, 0, 0, 0, 0, 0, 0, 0]])>, 'attention_mask': <tf.Tensor: shape=(1, 20), dtype=int32, numpy=array([[1, 1, 1, 1, 1, 1, 1, 1, 1, 1, 1, 1, 1, 1, 1, 1, 1, 1, 1, 1]])>}"
      ]
     },
     "execution_count": 136,
     "metadata": {},
     "output_type": "execute_result"
    }
   ],
   "source": [
    "tokens"
   ]
  },
  {
   "cell_type": "code",
   "execution_count": 132,
   "metadata": {},
   "outputs": [
    {
     "data": {
      "text/plain": [
       "<tf.Tensor: shape=(1, 20), dtype=int32, numpy=\n",
       "array([[  101,   178,  3683,  1156,  1138,  4690,  1141,  2206,  1567,\n",
       "         1122,  1105,  1122,  2228,  1684,  1107,  1139, 12574,  1177,\n",
       "         1277,   102]])>"
      ]
     },
     "execution_count": 132,
     "metadata": {},
     "output_type": "execute_result"
    }
   ],
   "source": [
    "tokens.input_ids #(1,20) "
   ]
  },
  {
   "cell_type": "code",
   "execution_count": 208,
   "metadata": {},
   "outputs": [],
   "source": [
    "from sklearn.model_selection import train_test_split\n",
    "\n",
    "# y values\n",
    "labels = tf.keras.utils.to_categorical(df_clean.sentiment_label.values, num_classes=3, dtype='int8')\n",
    "\n",
    "\n",
    "X_train, X_test, y_train,y_test= train_test_split(\n",
    "                                            df_clean['cleaned_review'],labels,test_size=.2,random_state=42, \n",
    "                                            stratify=labels)\n"
   ]
  },
  {
   "cell_type": "code",
   "execution_count": 209,
   "metadata": {},
   "outputs": [],
   "source": [
    "X_input_ids = np.zeros((len(X_train),300))\n",
    "X_attn_masks = np.zeros((len(X_train),300))"
   ]
  },
  {
   "cell_type": "code",
   "execution_count": 210,
   "metadata": {},
   "outputs": [
    {
     "name": "stdout",
     "output_type": "stream",
     "text": [
      "[0. 0. 0. 0. 0. 0. 0. 0. 0. 0. 0. 0. 0. 0. 0. 0. 0. 0. 0. 0. 0. 0. 0. 0.\n",
      " 0. 0. 0. 0. 0. 0. 0. 0. 0. 0. 0. 0. 0. 0. 0. 0. 0. 0. 0. 0. 0. 0. 0. 0.\n",
      " 0. 0. 0. 0. 0. 0. 0. 0. 0. 0. 0. 0. 0. 0. 0. 0. 0. 0. 0. 0. 0. 0. 0. 0.\n",
      " 0. 0. 0. 0. 0. 0. 0. 0. 0. 0. 0. 0. 0. 0. 0. 0. 0. 0. 0. 0. 0. 0. 0. 0.\n",
      " 0. 0. 0. 0. 0. 0. 0. 0. 0. 0. 0. 0. 0. 0. 0. 0. 0. 0. 0. 0. 0. 0. 0. 0.\n",
      " 0. 0. 0. 0. 0. 0. 0. 0. 0. 0. 0. 0. 0. 0. 0. 0. 0. 0. 0. 0. 0. 0. 0. 0.\n",
      " 0. 0. 0. 0. 0. 0. 0. 0. 0. 0. 0. 0. 0. 0. 0. 0. 0. 0. 0. 0. 0. 0. 0. 0.\n",
      " 0. 0. 0. 0. 0. 0. 0. 0. 0. 0. 0. 0. 0. 0. 0. 0. 0. 0. 0. 0. 0. 0. 0. 0.\n",
      " 0. 0. 0. 0. 0. 0. 0. 0. 0. 0. 0. 0. 0. 0. 0. 0. 0. 0. 0. 0. 0. 0. 0. 0.\n",
      " 0. 0. 0. 0. 0. 0. 0. 0. 0. 0. 0. 0. 0. 0. 0. 0. 0. 0. 0. 0. 0. 0. 0. 0.\n",
      " 0. 0. 0. 0. 0. 0. 0. 0. 0. 0. 0. 0. 0. 0. 0. 0. 0. 0. 0. 0. 0. 0. 0. 0.\n",
      " 0. 0. 0. 0. 0. 0. 0. 0. 0. 0. 0. 0. 0. 0. 0. 0. 0. 0. 0. 0. 0. 0. 0. 0.\n",
      " 0. 0. 0. 0. 0. 0. 0. 0. 0. 0. 0. 0.]\n",
      "13869\n",
      "(300,)\n",
      "[0. 0. 0. 0. 0. 0. 0. 0. 0. 0. 0. 0. 0. 0. 0. 0. 0. 0. 0. 0. 0. 0. 0. 0.\n",
      " 0. 0. 0. 0. 0. 0. 0. 0. 0. 0. 0. 0. 0. 0. 0. 0. 0. 0. 0. 0. 0. 0. 0. 0.\n",
      " 0. 0. 0. 0. 0. 0. 0. 0. 0. 0. 0. 0. 0. 0. 0. 0. 0. 0. 0. 0. 0. 0. 0. 0.\n",
      " 0. 0. 0. 0. 0. 0. 0. 0. 0. 0. 0. 0. 0. 0. 0. 0. 0. 0. 0. 0. 0. 0. 0. 0.\n",
      " 0. 0. 0. 0. 0. 0. 0. 0. 0. 0. 0. 0. 0. 0. 0. 0. 0. 0. 0. 0. 0. 0. 0. 0.\n",
      " 0. 0. 0. 0. 0. 0. 0. 0. 0. 0. 0. 0. 0. 0. 0. 0. 0. 0. 0. 0. 0. 0. 0. 0.\n",
      " 0. 0. 0. 0. 0. 0. 0. 0. 0. 0. 0. 0. 0. 0. 0. 0. 0. 0. 0. 0. 0. 0. 0. 0.\n",
      " 0. 0. 0. 0. 0. 0. 0. 0. 0. 0. 0. 0. 0. 0. 0. 0. 0. 0. 0. 0. 0. 0. 0. 0.\n",
      " 0. 0. 0. 0. 0. 0. 0. 0. 0. 0. 0. 0. 0. 0. 0. 0. 0. 0. 0. 0. 0. 0. 0. 0.\n",
      " 0. 0. 0. 0. 0. 0. 0. 0. 0. 0. 0. 0. 0. 0. 0. 0. 0. 0. 0. 0. 0. 0. 0. 0.\n",
      " 0. 0. 0. 0. 0. 0. 0. 0. 0. 0. 0. 0. 0. 0. 0. 0. 0. 0. 0. 0. 0. 0. 0. 0.\n",
      " 0. 0. 0. 0. 0. 0. 0. 0. 0. 0. 0. 0. 0. 0. 0. 0. 0. 0. 0. 0. 0. 0. 0. 0.\n",
      " 0. 0. 0. 0. 0. 0. 0. 0. 0. 0. 0. 0.]\n",
      "13869\n",
      "(300,)\n"
     ]
    }
   ],
   "source": [
    "print(X_input_ids[0])\n",
    "print(len(X_input_ids)) # 13869 data points\n",
    "print(X_input_ids[0].shape) # (300,)\n",
    "print(X_attn_masks[0])\n",
    "print(len(X_attn_masks)) # 13869 data points\n",
    "print(X_attn_masks[0].shape) # (300,)"
   ]
  },
  {
   "cell_type": "code",
   "execution_count": 211,
   "metadata": {},
   "outputs": [
    {
     "data": {
      "text/plain": [
       "(13869,)"
      ]
     },
     "execution_count": 211,
     "metadata": {},
     "output_type": "execute_result"
    }
   ],
   "source": [
    "X_train.shape"
   ]
  },
  {
   "cell_type": "code",
   "execution_count": 212,
   "metadata": {},
   "outputs": [
    {
     "name": "stdout",
     "output_type": "stream",
     "text": [
      "[0. 0. 0. 0. 0.]\n"
     ]
    }
   ],
   "source": [
    "print(X_input_ids[0,:5]) # rows and columns [0,:5], row-1, with 4 columns"
   ]
  },
  {
   "cell_type": "code",
   "execution_count": 213,
   "metadata": {},
   "outputs": [],
   "source": [
    "def generate_ids_masks(X_train,ids,masks,tokeniser):\n",
    "    for key, text in enumerate(X_train):\n",
    "        tokenised_text = tokeniser.encode_plus(\n",
    "                                text,\n",
    "                                max_length=300, \n",
    "                                truncation=True, \n",
    "                                padding='max_length', \n",
    "                                add_special_tokens=True,\n",
    "                                return_tensors='tf'\n",
    "        )\n",
    "        ids[key,:] = tokenised_text.input_ids # index, value\n",
    "        masks[key,:] = tokenised_text.attention_mask\n",
    "    return ids, masks\n"
   ]
  },
  {
   "cell_type": "code",
   "execution_count": 214,
   "metadata": {},
   "outputs": [],
   "source": [
    "X_input_ids, X_attn_masks = generate_ids_masks(X_train,\n",
    "            X_input_ids,\n",
    "            X_attn_masks,\n",
    "            tokeniser=tokenizer)"
   ]
  },
  {
   "cell_type": "code",
   "execution_count": 215,
   "metadata": {},
   "outputs": [
    {
     "name": "stdout",
     "output_type": "stream",
     "text": [
      "[[  101.   178.  1329. ...     0.     0.     0.]\n",
      " [  101.  1122.  1110. ...     0.     0.     0.]\n",
      " [  101.   178.  1138. ...     0.     0.     0.]\n",
      " ...\n",
      " [  101.  1589.  1632. ...     0.     0.     0.]\n",
      " [  101.  1103.  1839. ...     0.     0.     0.]\n",
      " [  101.  1103. 10322. ...     0.     0.     0.]]\n",
      "[[1. 1. 1. ... 0. 0. 0.]\n",
      " [1. 1. 1. ... 0. 0. 0.]\n",
      " [1. 1. 1. ... 0. 0. 0.]\n",
      " ...\n",
      " [1. 1. 1. ... 0. 0. 0.]\n",
      " [1. 1. 1. ... 0. 0. 0.]\n",
      " [1. 1. 1. ... 0. 0. 0.]]\n"
     ]
    }
   ],
   "source": [
    "print(X_input_ids)\n",
    "print(X_attn_masks)"
   ]
  },
  {
   "cell_type": "code",
   "execution_count": 216,
   "metadata": {},
   "outputs": [
    {
     "name": "stdout",
     "output_type": "stream",
     "text": [
      "[ 101.  178. 1329. 1142. 1114.]\n"
     ]
    }
   ],
   "source": [
    "print(X_input_ids[0,:5]) # rows and columns [0,:5], row-1, with 4 columns"
   ]
  },
  {
   "cell_type": "code",
   "execution_count": 217,
   "metadata": {},
   "outputs": [],
   "source": [
    "def sentiment_mapping(input_ids, attn_masks, labels):\n",
    "    return {\n",
    "        \"input_ids\":input_ids,\n",
    "        \"attn_masks\":attn_masks,\n",
    "    }, labels"
   ]
  },
  {
   "cell_type": "code",
   "execution_count": 218,
   "metadata": {},
   "outputs": [],
   "source": [
    "dataset = tf.data.Dataset.from_tensor_slices((X_input_ids,X_attn_masks,y_train))"
   ]
  },
  {
   "cell_type": "code",
   "execution_count": 219,
   "metadata": {},
   "outputs": [
    {
     "data": {
      "text/plain": [
       "<TakeDataset element_spec=(TensorSpec(shape=(300,), dtype=tf.float64, name=None), TensorSpec(shape=(300,), dtype=tf.float64, name=None), TensorSpec(shape=(3,), dtype=tf.int8, name=None))>"
      ]
     },
     "execution_count": 219,
     "metadata": {},
     "output_type": "execute_result"
    }
   ],
   "source": [
    "dataset.take(1)"
   ]
  },
  {
   "cell_type": "code",
   "execution_count": 220,
   "metadata": {},
   "outputs": [
    {
     "data": {
      "text/plain": [
       "<TakeDataset element_spec=({'input_ids': TensorSpec(shape=(300,), dtype=tf.float64, name=None), 'attn_masks': TensorSpec(shape=(300,), dtype=tf.float64, name=None)}, TensorSpec(shape=(3,), dtype=tf.int8, name=None))>"
      ]
     },
     "execution_count": 220,
     "metadata": {},
     "output_type": "execute_result"
    }
   ],
   "source": [
    "# converting to required format for tensorflow dataset\n",
    "dataset = dataset.map(sentiment_mapping)   \n",
    "dataset.take(1)"
   ]
  },
  {
   "cell_type": "code",
   "execution_count": 221,
   "metadata": {},
   "outputs": [],
   "source": [
    "# The batch size\n",
    "# dataset = dataset.batch(16, drop_remainder=True) # batch size, drop any left out tensor\n",
    "# changed it from 128 to 16 because \n",
    "# I want it to be the same as the previously trained approach\n",
    "formed_dataset= dataset.shuffle(10000).batch(16, drop_remainder=True) # batch size, drop any left out tensor"
   ]
  },
  {
   "cell_type": "code",
   "execution_count": 222,
   "metadata": {},
   "outputs": [
    {
     "data": {
      "text/plain": [
       "<TakeDataset element_spec=({'input_ids': TensorSpec(shape=(16, 300), dtype=tf.float64, name=None), 'attn_masks': TensorSpec(shape=(16, 300), dtype=tf.float64, name=None)}, TensorSpec(shape=(16, 3), dtype=tf.int8, name=None))>"
      ]
     },
     "execution_count": 222,
     "metadata": {},
     "output_type": "execute_result"
    }
   ],
   "source": [
    "formed_dataset.take(1)"
   ]
  },
  {
   "cell_type": "code",
   "execution_count": 223,
   "metadata": {},
   "outputs": [],
   "source": [
    "p = 0.8\n",
    "# for each 16 batch of data we will have len(df)//16 samples, take 80%\n",
    "# of the train data\n",
    "train_size = int((len(X_train)//16)*p) \n",
    "train_size = int((len(X_train)//16)*p) "
   ]
  },
  {
   "cell_type": "code",
   "execution_count": 224,
   "metadata": {},
   "outputs": [
    {
     "name": "stdout",
     "output_type": "stream",
     "text": [
      "13869\n",
      "692\n"
     ]
    }
   ],
   "source": [
    "print(len(X_train))\n",
    "print(train_size)"
   ]
  },
  {
   "cell_type": "code",
   "execution_count": 225,
   "metadata": {},
   "outputs": [],
   "source": [
    "train_dataset = formed_dataset.take(train_size) \n",
    "val_dataset = formed_dataset.skip(train_size)  # 42 data points for validation"
   ]
  },
  {
   "cell_type": "code",
   "execution_count": 226,
   "metadata": {},
   "outputs": [
    {
     "name": "stdout",
     "output_type": "stream",
     "text": [
      "<TakeDataset element_spec=({'input_ids': TensorSpec(shape=(16, 300), dtype=tf.float64, name=None), 'attn_masks': TensorSpec(shape=(16, 300), dtype=tf.float64, name=None)}, TensorSpec(shape=(16, 3), dtype=tf.int8, name=None))> \n",
      "\n",
      "<SkipDataset element_spec=({'input_ids': TensorSpec(shape=(16, 300), dtype=tf.float64, name=None), 'attn_masks': TensorSpec(shape=(16, 300), dtype=tf.float64, name=None)}, TensorSpec(shape=(16, 3), dtype=tf.int8, name=None))>\n"
     ]
    }
   ],
   "source": [
    "print(train_dataset,\"\\n\")\n",
    "print(val_dataset)"
   ]
  },
  {
   "cell_type": "code",
   "execution_count": 227,
   "metadata": {},
   "outputs": [],
   "source": [
    "input_ids = tf.keras.layers.Input(shape=300, name=\"input_ids\", dtype=\"int32\")\n",
    "attn_masks = tf.keras.layers.Input(shape=300, name=\"attn_masks\", dtype=\"int32\")"
   ]
  },
  {
   "cell_type": "code",
   "execution_count": 228,
   "metadata": {},
   "outputs": [],
   "source": [
    "bert_embds = model.bert(input_ids,attention_mask=attn_masks)[1]\n",
    "# 0 -> activation layer (3D), 1 -> pooled output layer (2D)\n",
    "\n",
    "intermediate_layer1 = tf.keras.layers.Dense(512, activation=\"relu\", name=\"intermediate_layer1\")(bert_embds)\n",
    "bn_layer1 = tf.keras.layers.BatchNormalization()(intermediate_layer1)\n",
    "dropout1 = tf.keras.layers.Dropout(0.2)(bn_layer1)\n",
    "intermediate_layer5 = tf.keras.layers.Dense(64, activation=\"relu\", name=\"intermediate_layer5\")(dropout1)\n",
    "bn_layer5 = tf.keras.layers.BatchNormalization()(intermediate_layer5)\n",
    "dropout5 = tf.keras.layers.Dropout(0.2)(bn_layer5)\n",
    "\n",
    "output_layer = tf.keras.layers.Dense(3,activation=\"softmax\", name=\"output_layer\")(dropout5)"
   ]
  },
  {
   "cell_type": "code",
   "execution_count": 229,
   "metadata": {},
   "outputs": [],
   "source": [
    "# Freezing the bert model\n",
    "for layer in model.layers:\n",
    "    layer.trainable = False"
   ]
  },
  {
   "cell_type": "code",
   "execution_count": 230,
   "metadata": {},
   "outputs": [
    {
     "name": "stdout",
     "output_type": "stream",
     "text": [
      "Model: \"model_2\"\n",
      "__________________________________________________________________________________________________\n",
      " Layer (type)                   Output Shape         Param #     Connected to                     \n",
      "==================================================================================================\n",
      " input_ids (InputLayer)         [(None, 300)]        0           []                               \n",
      "                                                                                                  \n",
      " attn_masks (InputLayer)        [(None, 300)]        0           []                               \n",
      "                                                                                                  \n",
      " bert (TFBertMainLayer)         TFBaseModelOutputWi  108310272   ['input_ids[0][0]',              \n",
      "                                thPoolingAndCrossAt               'attn_masks[0][0]']             \n",
      "                                tentions(last_hidde                                               \n",
      "                                n_state=(None, 300,                                               \n",
      "                                 768),                                                            \n",
      "                                 pooler_output=(Non                                               \n",
      "                                e, 768),                                                          \n",
      "                                 past_key_values=No                                               \n",
      "                                ne, hidden_states=N                                               \n",
      "                                one, attentions=Non                                               \n",
      "                                e, cross_attentions                                               \n",
      "                                =None)                                                            \n",
      "                                                                                                  \n",
      " intermediate_layer1 (Dense)    (None, 512)          393728      ['bert[1][1]']                   \n",
      "                                                                                                  \n",
      " batch_normalization_2 (BatchNo  (None, 512)         2048        ['intermediate_layer1[0][0]']    \n",
      " rmalization)                                                                                     \n",
      "                                                                                                  \n",
      " dropout_39 (Dropout)           (None, 512)          0           ['batch_normalization_2[0][0]']  \n",
      "                                                                                                  \n",
      " intermediate_layer5 (Dense)    (None, 64)           32832       ['dropout_39[0][0]']             \n",
      "                                                                                                  \n",
      " batch_normalization_3 (BatchNo  (None, 64)          256         ['intermediate_layer5[0][0]']    \n",
      " rmalization)                                                                                     \n",
      "                                                                                                  \n",
      " dropout_40 (Dropout)           (None, 64)           0           ['batch_normalization_3[0][0]']  \n",
      "                                                                                                  \n",
      " output_layer (Dense)           (None, 3)            195         ['dropout_40[0][0]']             \n",
      "                                                                                                  \n",
      "==================================================================================================\n",
      "Total params: 108,739,331\n",
      "Trainable params: 427,907\n",
      "Non-trainable params: 108,311,424\n",
      "__________________________________________________________________________________________________\n",
      "None\n"
     ]
    }
   ],
   "source": [
    "bert_model = tf.keras.Model(inputs=[input_ids,attn_masks], outputs=output_layer)\n",
    "print(bert_model.summary())"
   ]
  },
  {
   "cell_type": "code",
   "execution_count": 231,
   "metadata": {},
   "outputs": [],
   "source": [
    "# Define the custom callback\n",
    "class MyCustomCallback(tf.keras.callbacks.Callback):\n",
    "    def __init__(self):\n",
    "        super(MyCustomCallback, self).__init__()\n",
    "\n",
    "    def on_epoch_end(self, epoch, logs=None):\n",
    "        if logs is not None:\n",
    "            val_loss = logs.get('val_loss') \n",
    "            loss = logs.get('loss')\n",
    "            val_acc = logs.get('val_acc') \n",
    "            acc = logs.get('acc')\n",
    "            if val_loss < 0.4:\n",
    "                print(f\"\\nValidation loss is less than 0.4. \\nStopping training.\\n\")\n",
    "                self.model.stop_training = True\n",
    "            elif (loss <0.6) and (val_loss <= loss ):\n",
    "                print(f\"\\nValidation loss is less than loss: {loss} and loss is less than 0.6\\nStopping training.\\n\")\n",
    "                self.model.stop_training = True\n",
    "            elif (val_acc >= 0.75 ) or (val_loss <= 0.55  ):\n",
    "                print(f\"\\nValidation loss is <= 0.55 or val_acc >= 0.75\\nStopping training.\\n\")\n",
    "                self.model.stop_training = True\n",
    "\n",
    "callback = MyCustomCallback()"
   ]
  },
  {
   "cell_type": "code",
   "execution_count": 232,
   "metadata": {},
   "outputs": [],
   "source": [
    "import datetime\n",
    "class TimeCallback(tf.keras.callbacks.Callback):\n",
    "\n",
    "    def on_epoch_begin(self,epoch, logs=None):\n",
    "        print('Epoch: {}, begins at {}\\n'.format(epoch, datetime.datetime.now().time()))\n",
    "\n",
    "    def on_epoch_end(self,epoch, logs=None):\n",
    "        print('Epoch: {}, ends at {}\\n'.format(epoch, datetime.datetime.now().time()))\n",
    "\n",
    "my_timer = TimeCallback()"
   ]
  },
  {
   "cell_type": "code",
   "execution_count": 233,
   "metadata": {},
   "outputs": [],
   "source": [
    "# Learning Rate Schedulers\n",
    "peak_callback = tf.keras.callbacks.ReduceLROnPlateau(\n",
    "    monitor=\"val_loss\",\n",
    "    factor=0.1,\n",
    "    patience=2,\n",
    "    mode= 'min',\n",
    "    min_lr=0.00001\n",
    ")\n",
    "\n",
    "# Learning rate scheduler\n",
    "def scheduler(epoch,lr):\n",
    "    if epoch < 10:\n",
    "        return lr\n",
    "    else:\n",
    "        return lr * tf.math.exp(-0.1)\n",
    "\n",
    "my_scheduler = tf.keras.callbacks.LearningRateScheduler(scheduler)\n",
    "# optimizer\n",
    "optimise = tf.keras.optimizers.Adam(learning_rate=0.01)\n",
    "# losses\n",
    "loss = tf.keras.losses.categorical_crossentropy\n",
    "\n",
    "# metrics\n",
    "precision = tf.keras.metrics.Precision()\n",
    "recall = tf.keras.metrics.Recall()"
   ]
  },
  {
   "cell_type": "code",
   "execution_count": 234,
   "metadata": {},
   "outputs": [],
   "source": [
    "bert_model.compile(optimizer=optimise,\n",
    "            loss=loss,\n",
    "            metrics=['acc',precision,recall\n",
    "            ])"
   ]
  },
  {
   "cell_type": "code",
   "execution_count": 235,
   "metadata": {},
   "outputs": [
    {
     "name": "stdout",
     "output_type": "stream",
     "text": [
      "Epoch: 0, begins at 23:25:08.785811\n",
      "\n",
      "Epoch 1/20\n",
      "  6/692 [..............................] - ETA: 50:50 - loss: 1.5644 - acc: 0.3750 - precision_3: 0.3896 - recall_3: 0.3125WARNING:tensorflow:Callback method `on_train_batch_end` is slow compared to the batch time (batch time: 0.5051s vs `on_train_batch_end` time: 3.2841s). Check your callbacks.\n",
      "692/692 [==============================] - ETA: 0s - loss: 0.7589 - acc: 0.6720 - precision_3: 0.7028 - recall_3: 0.6159Epoch: 0, ends at 00:25:15.632630\n",
      "\n",
      "692/692 [==============================] - 3607s 5s/step - loss: 0.7589 - acc: 0.6720 - precision_3: 0.7028 - recall_3: 0.6159 - val_loss: 1.3816 - val_acc: 0.5697 - val_precision_3: 0.5919 - val_recall_3: 0.5600 - lr: 0.0100\n",
      "Epoch: 1, begins at 00:25:15.662472\n",
      "\n",
      "Epoch 2/20\n",
      "692/692 [==============================] - ETA: 0s - loss: 0.6851 - acc: 0.7048 - precision_3: 0.7380 - recall_3: 0.6490Epoch: 1, ends at 01:43:54.139198\n",
      "\n",
      "692/692 [==============================] - 4718s 7s/step - loss: 0.6851 - acc: 0.7048 - precision_3: 0.7380 - recall_3: 0.6490 - val_loss: 0.8214 - val_acc: 0.7328 - val_precision_3: 0.7336 - val_recall_3: 0.7320 - lr: 0.0100\n",
      "Epoch: 2, begins at 01:43:54.164560\n",
      "\n",
      "Epoch 3/20\n",
      "692/692 [==============================] - ETA: 0s - loss: 0.6624 - acc: 0.7126 - precision_3: 0.7487 - recall_3: 0.6631Epoch: 2, ends at 02:45:17.026946\n",
      "\n",
      "692/692 [==============================] - 3683s 5s/step - loss: 0.6624 - acc: 0.7126 - precision_3: 0.7487 - recall_3: 0.6631 - val_loss: 1.0109 - val_acc: 0.5338 - val_precision_3: 0.6862 - val_recall_3: 0.3660 - lr: 0.0100\n",
      "Epoch: 3, begins at 02:45:17.046894\n",
      "\n",
      "Epoch 4/20\n",
      "692/692 [==============================] - ETA: 0s - loss: 0.6614 - acc: 0.7158 - precision_3: 0.7461 - recall_3: 0.6625Epoch: 3, ends at 03:46:40.042169\n",
      "\n",
      "692/692 [==============================] - 3683s 5s/step - loss: 0.6614 - acc: 0.7158 - precision_3: 0.7461 - recall_3: 0.6625 - val_loss: 1.4802 - val_acc: 0.5564 - val_precision_3: 0.5567 - val_recall_3: 0.5553 - lr: 0.0100\n",
      "Epoch: 4, begins at 03:46:40.063615\n",
      "\n",
      "Epoch 5/20\n",
      "692/692 [==============================] - ETA: 0s - loss: 0.6313 - acc: 0.7282 - precision_3: 0.7647 - recall_3: 0.6778Epoch: 4, ends at 04:48:01.079947\n",
      "\n",
      "692/692 [==============================] - 3681s 5s/step - loss: 0.6313 - acc: 0.7282 - precision_3: 0.7647 - recall_3: 0.6778 - val_loss: 0.6120 - val_acc: 0.7364 - val_precision_3: 0.8021 - val_recall_3: 0.6304 - lr: 1.0000e-03\n",
      "Epoch: 5, begins at 04:48:01.103784\n",
      "\n",
      "Epoch 6/20\n",
      "692/692 [==============================] - ETA: 0s - loss: 0.6405 - acc: 0.7151 - precision_3: 0.7521 - recall_3: 0.6638Epoch: 5, ends at 05:49:22.926378\n",
      "\n",
      "692/692 [==============================] - 3682s 5s/step - loss: 0.6405 - acc: 0.7151 - precision_3: 0.7521 - recall_3: 0.6638 - val_loss: 0.6258 - val_acc: 0.7245 - val_precision_3: 0.7447 - val_recall_3: 0.6990 - lr: 1.0000e-03\n",
      "Epoch: 6, begins at 05:49:22.957431\n",
      "\n",
      "Epoch 7/20\n",
      "692/692 [==============================] - ETA: 0s - loss: 0.6342 - acc: 0.7234 - precision_3: 0.7598 - recall_3: 0.6689Epoch: 6, ends at 06:50:11.177310\n",
      "\n",
      "692/692 [==============================] - 3648s 5s/step - loss: 0.6342 - acc: 0.7234 - precision_3: 0.7598 - recall_3: 0.6689 - val_loss: 0.9423 - val_acc: 0.6114 - val_precision_3: 0.6248 - val_recall_3: 0.5945 - lr: 1.0000e-03\n",
      "Epoch: 7, begins at 06:50:11.206121\n",
      "\n",
      "Epoch 8/20\n",
      "692/692 [==============================] - ETA: 0s - loss: 0.6266 - acc: 0.7271 - precision_3: 0.7668 - recall_3: 0.6705\n",
      "Validation loss is <= 0.55 or val_acc >= 0.75\n",
      "Stopping training.\n",
      "\n",
      "Epoch: 7, ends at 07:50:52.691371\n",
      "\n",
      "692/692 [==============================] - 3641s 5s/step - loss: 0.6266 - acc: 0.7271 - precision_3: 0.7668 - recall_3: 0.6705 - val_loss: 0.5554 - val_acc: 0.7579 - val_precision_3: 0.7982 - val_recall_3: 0.7033 - lr: 1.0000e-04\n"
     ]
    }
   ],
   "source": [
    "# Model training\n",
    "tf.keras.backend.clear_session()\n",
    "bert_model_history = bert_model.fit(\n",
    "                            train_dataset,\n",
    "                            epochs=20, \n",
    "                            # verbose=1, \n",
    "                            # steps_per_epoch=100,\n",
    "                            validation_data=val_dataset,\n",
    "                            callbacks=[callback,my_scheduler,\n",
    "                                       peak_callback,my_timer])"
   ]
  },
  {
   "cell_type": "code",
   "execution_count": 236,
   "metadata": {},
   "outputs": [],
   "source": [
    "# Test data\n",
    "X_test_input_ids  = np.zeros((len(X_test),300))\n",
    "X_test_attn_masks = np.zeros((len(X_test),300))\n",
    "# print(X_test_input_ids[0])\n",
    "# print(len(X_test_input_ids)) # 3468 data points\n",
    "# print(X_test_input_ids[0].shape) # (300,)\n",
    "# print(X_test_attn_masks[0])\n",
    "# print(len(X_test_attn_masks)) # 3468 data points\n",
    "# print(X_test_attn_masks[0].shape) # (300,)\n",
    "\n",
    "\n",
    "X_test_input_ids, X_test_attn_masks = generate_ids_masks(X_test,\n",
    "                                                        X_test_input_ids,\n",
    "                                                        X_test_attn_masks,\n",
    "                                                        tokenizer)"
   ]
  },
  {
   "cell_type": "code",
   "execution_count": 237,
   "metadata": {},
   "outputs": [
    {
     "name": "stdout",
     "output_type": "stream",
     "text": [
      "109/109 [==============================] - 853s 8s/step - loss: 0.5651 - acc: 0.7500 - precision_3: 0.7908 - recall_3: 0.6967\n"
     ]
    }
   ],
   "source": [
    "# Predictions on the Test Set\n",
    "score = bert_model.evaluate([X_test_input_ids,X_test_attn_masks], y_test, verbose=1)"
   ]
  },
  {
   "cell_type": "code",
   "execution_count": 238,
   "metadata": {},
   "outputs": [
    {
     "name": "stdout",
     "output_type": "stream",
     "text": [
      "Test Loss: 0.5650606155395508\n",
      "Test Accuracy: 0.75\n"
     ]
    }
   ],
   "source": [
    "print(\"Test Loss:\", score[0])\n",
    "print(\"Test Accuracy:\", score[1])"
   ]
  },
  {
   "cell_type": "code",
   "execution_count": 239,
   "metadata": {},
   "outputs": [
    {
     "data": {
      "image/png": "[encoded data removed]",
      "text/plain": [
       "<Figure size 432x288 with 1 Axes>"
      ]
     },
     "metadata": {
      "needs_background": "light"
     },
     "output_type": "display_data"
    },
    {
     "data": {
      "image/png": "[encoded data removed]",
      "text/plain": [
       "<Figure size 432x288 with 1 Axes>"
      ]
     },
     "metadata": {
      "needs_background": "light"
     },
     "output_type": "display_data"
    }
   ],
   "source": [
    "# Model Performance Charts\n",
    "\n",
    "plt.plot(bert_model_history.history['acc'])\n",
    "plt.plot(bert_model_history.history['val_acc'])\n",
    "\n",
    "plt.title('model accuracy')\n",
    "plt.ylabel('accuracy')\n",
    "plt.xlabel('epoch')\n",
    "plt.legend(['training','validation'], loc='upper left')\n",
    "plt.show()\n",
    "\n",
    "plt.plot(bert_model_history.history['loss'])\n",
    "plt.plot(bert_model_history.history['val_loss'])\n",
    "\n",
    "plt.title('model loss')\n",
    "plt.ylabel('loss')\n",
    "plt.xlabel('epoch')\n",
    "plt.legend(['training','validation'], loc='upper left')\n",
    "plt.show()"
   ]
  },
  {
   "cell_type": "code",
   "execution_count": 240,
   "metadata": {},
   "outputs": [],
   "source": [
    "# Saving the model\n",
    "# bert_model.save(\"saved_model/bert_model\")"
   ]
  },
  {
   "cell_type": "markdown",
   "metadata": {},
   "source": [
    "### **Classification report**"
   ]
  },
  {
   "cell_type": "code",
   "execution_count": 241,
   "metadata": {},
   "outputs": [
    {
     "name": "stdout",
     "output_type": "stream",
     "text": [
      "109/109 [==============================] - 787s 7s/step\n",
      "              precision    recall  f1-score   support\n",
      "\n",
      "           0       0.52      0.07      0.13       307\n",
      "           1       0.67      0.73      0.70      1260\n",
      "           2       0.81      0.87      0.84      1901\n",
      "\n",
      "    accuracy                           0.75      3468\n",
      "   macro avg       0.67      0.56      0.56      3468\n",
      "weighted avg       0.73      0.75      0.73      3468\n",
      "\n"
     ]
    },
    {
     "data": {
      "image/png": "[encoded data removed]",
      "text/plain": [
       "<Figure size 432x288 with 2 Axes>"
      ]
     },
     "metadata": {},
     "output_type": "display_data"
    }
   ],
   "source": [
    "# Classification report test data\n",
    "import seaborn as sns\n",
    "from sklearn.metrics import classification_report,confusion_matrix,ConfusionMatrixDisplay\n",
    "y_true=np.argmax(y_test, axis=1)\n",
    "y_pred_test = bert_model.predict([X_test_input_ids,X_test_attn_masks])\n",
    "y_pred_test=np.argmax(y_pred_test, axis=1)\n",
    "sns.set_theme(style='white')\n",
    "def class_report(model,y_true,pred):\n",
    "    print(classification_report(y_true,pred))\n",
    "    cm = confusion_matrix(y_true,pred,labels=[0,1,2])\n",
    "    disp = ConfusionMatrixDisplay(confusion_matrix=cm, display_labels=[0,1,2])\n",
    "    disp.plot()\n",
    "    plt.show()\n",
    "\n",
    "\n",
    "class_report(bert_model,y_true,y_pred_test) \n",
    "\n",
    "# Original mapping\n",
    "# sentiment_mapping = {'negative':-1,'neutral':0,'positive':1}\n",
    "\n",
    "# New mapping\n",
    "# negative --> 0\n",
    "# neutral ---> 1\n",
    "# positive --> 2"
   ]
  },
  {
   "cell_type": "code",
   "execution_count": 242,
   "metadata": {},
   "outputs": [],
   "source": [
    "# Predictions on unseen data\n",
    "\n",
    "reviews =[ \"I can't believe I wasted my money on this keyboard and mouse\",\n",
    "            \"I really love this device\",\n",
    "            \"It's quite good, but not so great. They can do better\",\n",
    "            \"I hate this device, terrible!!!\",\n",
    "            \"Where the hell is my refund for this damn product (mouse)\",\n",
    "            \"I believe Ebay is so much better than the crap that is HERE!!!\",\n",
    "            \"worst keyboard ever\",\n",
    "            \"distasteful to the fullest!!!\",\n",
    "            \"spoilt on the first day\",\n",
    "            \"never shopping here again, waste of money\"]"
   ]
  },
  {
   "cell_type": "code",
   "execution_count": 244,
   "metadata": {},
   "outputs": [],
   "source": [
    "pred_ids = np.zeros((len(reviews),300))\n",
    "pred_masks = np.zeros((len(reviews),300))\n",
    "pred_ids,pred_masks = generate_ids_masks(reviews,pred_ids,\n",
    "                            pred_masks,tokenizer)"
   ]
  },
  {
   "cell_type": "code",
   "execution_count": 247,
   "metadata": {},
   "outputs": [
    {
     "data": {
      "text/plain": [
       "array([  101.,   146.,  1169.,   112.,   189.,  2059.,   146., 15445.,\n",
       "        1139.,  1948.])"
      ]
     },
     "execution_count": 247,
     "metadata": {},
     "output_type": "execute_result"
    }
   ],
   "source": [
    "pred_ids[0,:10]"
   ]
  },
  {
   "cell_type": "code",
   "execution_count": 252,
   "metadata": {},
   "outputs": [
    {
     "name": "stdout",
     "output_type": "stream",
     "text": [
      "1/1 [==============================] - 3s 3s/step\n"
     ]
    },
    {
     "data": {
      "text/plain": [
       "<tf.Tensor: shape=(10,), dtype=int64, numpy=array([2, 2, 2, 1, 1, 1, 1, 0, 1, 1], dtype=int64)>"
      ]
     },
     "execution_count": 252,
     "metadata": {},
     "output_type": "execute_result"
    }
   ],
   "source": [
    "y_preds = bert_model.predict([pred_ids,pred_masks])\n",
    "tf.argmax(y_preds,axis=1)\n",
    "# np.argmax(y_preds,axis=1)\n",
    "# New mapping\n",
    "# negative --> 0\n",
    "# neutral ---> 1\n",
    "# positive --> 2"
   ]
  }
 ],
 "metadata": {
  "kernelspec": {
   "display_name": "Python 3.8.13 (conda)",
   "language": "python",
   "name": "python3"
  },
  "language_info": {
   "codemirror_mode": {
    "name": "ipython",
    "version": 3
   },
   "file_extension": ".py",
   "mimetype": "text/x-python",
   "name": "python",
   "nbconvert_exporter": "python",
   "pygments_lexer": "ipython3",
   "version": "3.8.13"
  },
  "orig_nbformat": 4,
  "vscode": {
   "interpreter": {
    "hash": "0d3784fccdc90acbf957f8297e7e306d4c8b14c1a207bd5307d0795df9a8d77b"
   }
  }
 },
 "nbformat": 4,
 "nbformat_minor": 2
}
